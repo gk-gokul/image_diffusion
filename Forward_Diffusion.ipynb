{
  "nbformat": 4,
  "nbformat_minor": 0,
  "metadata": {
    "colab": {
      "provenance": [],
      "authorship_tag": "ABX9TyNxptIbsrslOxReURcHk4IJ",
      "include_colab_link": true
    },
    "kernelspec": {
      "name": "python3",
      "display_name": "Python 3"
    },
    "language_info": {
      "name": "python"
    }
  },
  "cells": [
    {
      "cell_type": "markdown",
      "metadata": {
        "id": "view-in-github",
        "colab_type": "text"
      },
      "source": [
        "<a href=\"https://colab.research.google.com/github/gk-gokul/image_diffusion/blob/main/Forward_Diffusion.ipynb\" target=\"_parent\"><img src=\"https://colab.research.google.com/assets/colab-badge.svg\" alt=\"Open In Colab\"/></a>"
      ]
    },
    {
      "cell_type": "code",
      "execution_count": null,
      "metadata": {
        "id": "x7OJT-pd_7g5"
      },
      "outputs": [],
      "source": [
        "import torch"
      ]
    },
    {
      "cell_type": "code",
      "source": [
        "def forward_diffusion(x0, t, betas = torch.linespace(0.0, 1.0, 5)):\n",
        "   noise = torch.rand_like(x0)"
      ],
      "metadata": {
        "id": "HjUD85P1jOqq"
      },
      "execution_count": null,
      "outputs": []
    },
    {
      "cell_type": "code",
      "source": [
        "x0 = torch.randn(2,3,32,32)"
      ],
      "metadata": {
        "id": "K1GXzyfwCKd2"
      },
      "execution_count": null,
      "outputs": []
    },
    {
      "cell_type": "code",
      "source": [
        "beta = torch.tensor([0.05,0.1,0.15,0.2,0.25])"
      ],
      "metadata": {
        "id": "zTLOYu3kCf6N"
      },
      "execution_count": null,
      "outputs": []
    },
    {
      "cell_type": "code",
      "source": [
        "t = torch.tensor([1,3])"
      ],
      "metadata": {
        "id": "z7DMDmyLCsHW"
      },
      "execution_count": null,
      "outputs": []
    },
    {
      "cell_type": "code",
      "source": [
        "alpha = 1 - beta"
      ],
      "metadata": {
        "id": "HANoywA3Cv3U"
      },
      "execution_count": null,
      "outputs": []
    },
    {
      "cell_type": "code",
      "source": [
        "alpha_hat = torch.cumprod(alpha, axis = 0)"
      ],
      "metadata": {
        "id": "Z0Da5jxRDnP3"
      },
      "execution_count": null,
      "outputs": []
    },
    {
      "cell_type": "code",
      "source": [
        "result = alpha_hat.gather(-1,t).reshape(-1,1,1,1)"
      ],
      "metadata": {
        "id": "zg9Ur5CTGvO4"
      },
      "execution_count": null,
      "outputs": []
    },
    {
      "cell_type": "code",
      "source": [
        "alpha_hat"
      ],
      "metadata": {
        "colab": {
          "base_uri": "https://localhost:8080/"
        },
        "id": "Uwu0K7yOD1Sj",
        "outputId": "56254625-74bf-4bbe-9058-5298c3ea57b7"
      },
      "execution_count": null,
      "outputs": [
        {
          "output_type": "execute_result",
          "data": {
            "text/plain": [
              "tensor([0.9500, 0.8550, 0.7268, 0.5814, 0.4360])"
            ]
          },
          "metadata": {},
          "execution_count": 12
        }
      ]
    },
    {
      "cell_type": "code",
      "source": [
        "result.size()"
      ],
      "metadata": {
        "colab": {
          "base_uri": "https://localhost:8080/"
        },
        "id": "Zs7Ex5JXGtS_",
        "outputId": "8a88ab99-52d3-432c-f2ae-80f98c5d80f3"
      },
      "execution_count": null,
      "outputs": [
        {
          "output_type": "execute_result",
          "data": {
            "text/plain": [
              "torch.Size([2, 1, 1, 1])"
            ]
          },
          "metadata": {},
          "execution_count": 13
        }
      ]
    },
    {
      "cell_type": "code",
      "source": [
        "x0.size()"
      ],
      "metadata": {
        "colab": {
          "base_uri": "https://localhost:8080/"
        },
        "id": "Ssfke1YmD6mE",
        "outputId": "d17547c0-3c13-4c2c-8ff8-167232a14eee"
      },
      "execution_count": null,
      "outputs": [
        {
          "output_type": "execute_result",
          "data": {
            "text/plain": [
              "torch.Size([2, 3, 32, 32])"
            ]
          },
          "metadata": {},
          "execution_count": 14
        }
      ]
    },
    {
      "cell_type": "code",
      "source": [
        "noise =  torch.rand_like(x0)\n",
        "mean = result.sqrt()*x0\n",
        "variance = torch.sqrt(1-result)* noise"
      ],
      "metadata": {
        "id": "2JrQdi8YD-a8"
      },
      "execution_count": null,
      "outputs": []
    },
    {
      "cell_type": "code",
      "source": [
        "x_t = mean + variance"
      ],
      "metadata": {
        "id": "akzSDhOCHKIY"
      },
      "execution_count": null,
      "outputs": []
    },
    {
      "cell_type": "code",
      "source": [
        "x_t[0]"
      ],
      "metadata": {
        "colab": {
          "base_uri": "https://localhost:8080/"
        },
        "id": "rDxIdVwGHNxI",
        "outputId": "8068cdd3-294d-4823-8adb-7769746ed864"
      },
      "execution_count": null,
      "outputs": [
        {
          "output_type": "execute_result",
          "data": {
            "text/plain": [
              "tensor([[[-0.7501, -0.4327,  0.8111,  ..., -1.1709, -0.9754,  0.7447],\n",
              "         [ 0.0168,  1.7746, -0.3924,  ...,  0.9683, -0.6558, -0.2191],\n",
              "         [-1.3673,  0.8247,  0.4525,  ..., -0.0047,  0.8394, -0.5299],\n",
              "         ...,\n",
              "         [ 0.8675, -0.9971, -0.2159,  ..., -1.2275, -0.4421, -0.9354],\n",
              "         [ 2.2079, -0.0415,  0.3300,  ...,  0.4823,  0.2867,  1.5106],\n",
              "         [ 0.2828, -0.5361, -0.4743,  ...,  0.6215,  1.1820,  1.2360]],\n",
              "\n",
              "        [[-0.2948,  0.8588,  0.3481,  ..., -0.0761, -0.6388, -0.4037],\n",
              "         [-0.7077, -1.2954, -0.6058,  ..., -1.0395,  2.5491,  0.4040],\n",
              "         [-0.2717,  0.5028,  0.5524,  ...,  0.3078,  1.0684,  1.0616],\n",
              "         ...,\n",
              "         [-0.8533,  0.3966, -0.0690,  ...,  0.2923, -1.3552,  1.3536],\n",
              "         [ 0.8653,  0.6693,  1.6085,  ...,  1.2681, -0.3006,  0.4926],\n",
              "         [ 0.2551,  0.2868,  1.3123,  ...,  0.8794,  0.5437,  1.0049]],\n",
              "\n",
              "        [[ 1.0110, -0.5332,  1.6362,  ..., -0.1077,  1.0021, -0.4799],\n",
              "         [-0.2374, -0.5795,  0.5296,  ...,  0.7539, -0.0887, -0.0482],\n",
              "         [-0.0346, -0.6010, -0.8576,  ..., -0.0037, -0.4486,  0.0873],\n",
              "         ...,\n",
              "         [ 0.2097, -0.1137,  1.5003,  ...,  1.5750,  1.4529, -0.1845],\n",
              "         [ 0.6324,  0.9908,  0.5473,  ...,  0.8977,  0.2351,  0.1376],\n",
              "         [ 0.1877, -1.8201, -0.2772,  ...,  0.9120, -0.2201,  1.6834]]])"
            ]
          },
          "metadata": {},
          "execution_count": 17
        }
      ]
    },
    {
      "cell_type": "code",
      "source": [
        "x_t[1]"
      ],
      "metadata": {
        "id": "zJkyHi0zVUvQ",
        "colab": {
          "base_uri": "https://localhost:8080/"
        },
        "outputId": "3db7e1bb-1aa4-41c7-e851-3ef03d29dada"
      },
      "execution_count": null,
      "outputs": [
        {
          "output_type": "execute_result",
          "data": {
            "text/plain": [
              "tensor([[[ 0.6157,  0.4935,  0.3128,  ...,  0.3493,  1.3095, -0.2984],\n",
              "         [ 1.2506,  0.1157,  0.5088,  ...,  1.2120,  0.1799,  0.4016],\n",
              "         [ 0.7976, -0.9672,  0.9796,  ...,  0.3413,  1.0937,  0.2670],\n",
              "         ...,\n",
              "         [-0.4828, -0.6731,  0.4907,  ..., -0.5066, -0.3577,  0.0551],\n",
              "         [ 0.3028,  0.1174, -0.4407,  ..., -0.4921,  0.8700,  1.7762],\n",
              "         [-0.4980,  1.1123, -1.6579,  ...,  0.2495,  0.6832,  0.9769]],\n",
              "\n",
              "        [[-0.2537,  0.4262, -0.6246,  ...,  0.4575, -0.1396,  0.3641],\n",
              "         [ 0.8738,  1.2436,  0.5828,  ...,  0.6110,  0.1231, -0.8458],\n",
              "         [ 0.0285, -0.6678,  0.4743,  ...,  1.4201,  1.2040,  1.2898],\n",
              "         ...,\n",
              "         [ 0.8001,  0.7790,  1.1402,  ...,  1.1099,  0.8468, -0.7202],\n",
              "         [ 0.5061,  0.8271, -0.5279,  ...,  0.6390,  0.4845,  0.6057],\n",
              "         [-0.1165, -0.4044,  2.1762,  ...,  1.3959,  0.0792,  1.1827]],\n",
              "\n",
              "        [[-0.9067,  0.7061,  1.3423,  ..., -0.1031,  0.9937,  0.5084],\n",
              "         [ 0.3672, -0.3755, -0.3918,  ...,  0.1844,  0.1801,  1.6342],\n",
              "         [-0.4838, -0.1966,  0.4225,  ...,  0.5200, -1.4608, -0.2873],\n",
              "         ...,\n",
              "         [-0.0536, -0.6566,  0.2386,  ...,  1.1720, -0.1542,  0.4111],\n",
              "         [-0.0154, -0.3205, -1.2696,  ...,  0.0584, -0.1597,  0.5738],\n",
              "         [ 0.3491, -0.6955,  0.5393,  ..., -0.4939,  0.2198,  0.2965]]])"
            ]
          },
          "metadata": {},
          "execution_count": 19
        }
      ]
    },
    {
      "cell_type": "code",
      "source": [],
      "metadata": {
        "id": "izLz09i2jFFk"
      },
      "execution_count": null,
      "outputs": []
    }
  ]
}